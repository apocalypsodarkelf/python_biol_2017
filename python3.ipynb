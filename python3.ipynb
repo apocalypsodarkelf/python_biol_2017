{
 "cells": [
  {
   "cell_type": "code",
   "execution_count": 4,
   "metadata": {},
   "outputs": [
    {
     "name": "stdout",
     "output_type": "stream",
     "text": [
      "Počet písmen: 52\n",
      "Počet čísel: 3\n",
      "Počet jiných znaků: 19\n"
     ]
    }
   ],
   "source": [
    "import string\n",
    "sentence = 'Král řekl Honzovi: \"Ta saň má 7 hlav! Zabij ji a dostaneš 1/2 království.\"'\n",
    "letters = 0\n",
    "numbers = 0\n",
    "characters = 0\n",
    "for c in sentence:\n",
    "    if c in string.digits:\n",
    "        numbers += 1\n",
    "    elif c in string.punctuation or c in string.whitespace:\n",
    "        characters += 1\n",
    "    else:\n",
    "        letters += 1\n",
    "print(\"Počet písmen: {}\\nPočet čísel: {}\\nPočet jiných znaků: {}\".format(letters, numbers, characters))"
   ]
  },
  {
   "cell_type": "code",
   "execution_count": 9,
   "metadata": {},
   "outputs": [
    {
     "data": {
      "text/plain": [
       "430"
      ]
     },
     "execution_count": 9,
     "metadata": {},
     "output_type": "execute_result"
    }
   ],
   "source": [
    "mikes = 83\n",
    "mikes_lidsky_vek = 0\n",
    "if mikes < 1:\n",
    "    mikes_lidsky_vek += 18*mikes\n",
    "if mikes >= 1:\n",
    "    mikes_lidsky_vek += 18\n",
    "if mikes >= 2:\n",
    "    mikes_lidsky_vek += 7\n",
    "if mikes >2:\n",
    "    mikes_lidsky_vek += (mikes-2)*5\n",
    "mikes_lidsky_vek"
   ]
  },
  {
   "cell_type": "code",
   "execution_count": null,
   "metadata": {
    "collapsed": true
   },
   "outputs": [],
   "source": []
  }
 ],
 "metadata": {
  "kernelspec": {
   "display_name": "Python 3",
   "language": "python",
   "name": "python3"
  },
  "language_info": {
   "codemirror_mode": {
    "name": "ipython",
    "version": 3
   },
   "file_extension": ".py",
   "mimetype": "text/x-python",
   "name": "python",
   "nbconvert_exporter": "python",
   "pygments_lexer": "ipython3",
   "version": "3.6.1"
  }
 },
 "nbformat": 4,
 "nbformat_minor": 2
}
