{
 "cells": [
  {
   "cell_type": "code",
   "execution_count": 25,
   "metadata": {},
   "outputs": [
    {
     "data": {
      "text/plain": [
       "0.1"
      ]
     },
     "execution_count": 25,
     "metadata": {},
     "output_type": "execute_result"
    }
   ],
   "source": [
    "seq = \"ATTGACGACAAGGTAGA\"\n",
    "def nucl_freq(sequence, nucleotide):\n",
    "    counter = 0\n",
    "    for i in sequence:\n",
    "        if i == nucleotide:\n",
    "            counter = counter + 1\n",
    "    return round(counter/len(sequence), 1)\n",
    "c_freq = nucl_freq(seq, \"C\")\n",
    "c_freq"
   ]
  },
  {
   "cell_type": "code",
   "execution_count": 26,
   "metadata": {},
   "outputs": [
    {
     "data": {
      "text/plain": [
       "{'A': 0.4, 'C': 0.1, 'G': 0.3, 'T': 0.2}"
      ]
     },
     "execution_count": 26,
     "metadata": {},
     "output_type": "execute_result"
    }
   ],
   "source": [
    "def nucl_freq_all(sequence):\n",
    "    bases = \"ACTG\"\n",
    "    freqs = {}\n",
    "    for i in bases:\n",
    "        freqs[i] = nucl_freq(sequence, i)\n",
    "    return freqs\n",
    "nucl_freq_all(seq)"
   ]
  },
  {
   "cell_type": "code",
   "execution_count": null,
   "metadata": {
    "collapsed": true
   },
   "outputs": [],
   "source": []
  }
 ],
 "metadata": {
  "kernelspec": {
   "display_name": "Python 3",
   "language": "python",
   "name": "python3"
  },
  "language_info": {
   "codemirror_mode": {
    "name": "ipython",
    "version": 3
   },
   "file_extension": ".py",
   "mimetype": "text/x-python",
   "name": "python",
   "nbconvert_exporter": "python",
   "pygments_lexer": "ipython3",
   "version": "3.6.1"
  }
 },
 "nbformat": 4,
 "nbformat_minor": 2
}
