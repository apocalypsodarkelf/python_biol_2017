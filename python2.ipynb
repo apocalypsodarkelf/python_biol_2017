{
 "cells": [
  {
   "cell_type": "code",
   "execution_count": 27,
   "metadata": {},
   "outputs": [
    {
     "data": {
      "text/plain": [
       "[['banana', 'banana', 'banana'],\n",
       " ['apple', 'apple'],\n",
       " ['mango'],\n",
       " ['kiwi', 'kiwi', 'kiwi', 'kiwi', 'kiwi']]"
      ]
     },
     "execution_count": 27,
     "metadata": {},
     "output_type": "execute_result"
    }
   ],
   "source": [
    "fruits = {'banana':3,'apple':2, 'mango':1, 'kiwi':5}\n",
    "fruit_list = []\n",
    "for fruit in fruits:\n",
    "    fruit_list.append([fruit]*fruits[fruit])\n",
    "fruit_list"
   ]
  },
  {
   "cell_type": "code",
   "execution_count": 47,
   "metadata": {},
   "outputs": [
    {
     "name": "stdout",
     "output_type": "stream",
     "text": [
      "kiwi\n"
     ]
    }
   ],
   "source": [
    "fruits = ['banana','apple', 'mango', 'kiwi']\n",
    "shortest_fruit = fruits[0]\n",
    "for fruit in fruits:\n",
    "    if len(fruit) < len(shortest_fruit):\n",
    "        shortest_fruit = fruit\n",
    "print(shortest_fruit)"
   ]
  },
  {
   "cell_type": "code",
   "execution_count": null,
   "metadata": {},
   "outputs": [],
   "source": []
  },
  {
   "cell_type": "code",
   "execution_count": null,
   "metadata": {
    "collapsed": true
   },
   "outputs": [],
   "source": []
  }
 ],
 "metadata": {
  "kernelspec": {
   "display_name": "Python 3",
   "language": "python",
   "name": "python3"
  },
  "language_info": {
   "codemirror_mode": {
    "name": "ipython",
    "version": 3
   },
   "file_extension": ".py",
   "mimetype": "text/x-python",
   "name": "python",
   "nbconvert_exporter": "python",
   "pygments_lexer": "ipython3",
   "version": "3.6.1"
  }
 },
 "nbformat": 4,
 "nbformat_minor": 2
}
